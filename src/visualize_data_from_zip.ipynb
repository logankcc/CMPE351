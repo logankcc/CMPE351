{
 "cells": [
  {
   "cell_type": "code",
   "execution_count": 1,
   "metadata": {},
   "outputs": [],
   "source": [
    "import gzip\n",
    "import json\n",
    "import pandas as pd\n",
    "import plotly.express as px"
   ]
  },
  {
   "cell_type": "markdown",
   "metadata": {},
   "source": [
    "# Import Data"
   ]
  },
  {
   "cell_type": "code",
   "execution_count": 2,
   "metadata": {},
   "outputs": [],
   "source": [
    "def parse_gzipped_json_generator(zip_file_path):\n",
    "    with gzip.open(zip_file_path, 'rt', encoding='utf-8') as file:\n",
    "        for line in file:\n",
    "            yield json.loads(line)\n",
    "\n",
    "def gzipped_json_to_dataframe(zip_file_path):\n",
    "    generator = parse_gzipped_json_generator(zip_file_path)\n",
    "    data_frame = pd.DataFrame(generator)\n",
    "    return data_frame"
   ]
  },
  {
   "cell_type": "code",
   "execution_count": 3,
   "metadata": {},
   "outputs": [
    {
     "data": {
      "text/html": [
       "<div>\n",
       "<style scoped>\n",
       "    .dataframe tbody tr th:only-of-type {\n",
       "        vertical-align: middle;\n",
       "    }\n",
       "\n",
       "    .dataframe tbody tr th {\n",
       "        vertical-align: top;\n",
       "    }\n",
       "\n",
       "    .dataframe thead th {\n",
       "        text-align: right;\n",
       "    }\n",
       "</style>\n",
       "<table border=\"1\" class=\"dataframe\">\n",
       "  <thead>\n",
       "    <tr style=\"text-align: right;\">\n",
       "      <th></th>\n",
       "      <th>user_id</th>\n",
       "      <th>name</th>\n",
       "      <th>time</th>\n",
       "      <th>rating</th>\n",
       "      <th>text</th>\n",
       "      <th>pics</th>\n",
       "      <th>resp</th>\n",
       "      <th>gmap_id</th>\n",
       "    </tr>\n",
       "  </thead>\n",
       "  <tbody>\n",
       "    <tr>\n",
       "      <th>0</th>\n",
       "      <td>104256407771930872120</td>\n",
       "      <td>Petre Ene</td>\n",
       "      <td>1551027526726</td>\n",
       "      <td>4</td>\n",
       "      <td>the food is really good, I had a great experie...</td>\n",
       "      <td>[{'url': ['https://lh5.googleusercontent.com/p...</td>\n",
       "      <td>None</td>\n",
       "      <td>0x89b7b7851b06ef6b:0x5f356b1eb1da27</td>\n",
       "    </tr>\n",
       "    <tr>\n",
       "      <th>1</th>\n",
       "      <td>108642560086289718425</td>\n",
       "      <td>Keshava Mysore</td>\n",
       "      <td>1510920735052</td>\n",
       "      <td>4</td>\n",
       "      <td>High prices for not so big portions! But I thi...</td>\n",
       "      <td>None</td>\n",
       "      <td>None</td>\n",
       "      <td>0x89b7b7851b06ef6b:0x5f356b1eb1da27</td>\n",
       "    </tr>\n",
       "    <tr>\n",
       "      <th>2</th>\n",
       "      <td>111842880135815090774</td>\n",
       "      <td>Carol G</td>\n",
       "      <td>1543249586598</td>\n",
       "      <td>2</td>\n",
       "      <td>The gelato looked \"old\" and ended up having co...</td>\n",
       "      <td>None</td>\n",
       "      <td>None</td>\n",
       "      <td>0x89b7b7851b06ef6b:0x5f356b1eb1da27</td>\n",
       "    </tr>\n",
       "    <tr>\n",
       "      <th>3</th>\n",
       "      <td>110299397397951052863</td>\n",
       "      <td>翟泉</td>\n",
       "      <td>1496597796978</td>\n",
       "      <td>4</td>\n",
       "      <td>(Translated by Google) The fast food restauran...</td>\n",
       "      <td>[{'url': ['https://lh5.googleusercontent.com/p...</td>\n",
       "      <td>None</td>\n",
       "      <td>0x89b7b7851b06ef6b:0x5f356b1eb1da27</td>\n",
       "    </tr>\n",
       "    <tr>\n",
       "      <th>4</th>\n",
       "      <td>116447973760719145759</td>\n",
       "      <td>Kitae Yim</td>\n",
       "      <td>1540701399450</td>\n",
       "      <td>1</td>\n",
       "      <td>(Translated by Google) The food is barely edib...</td>\n",
       "      <td>None</td>\n",
       "      <td>None</td>\n",
       "      <td>0x89b7b7851b06ef6b:0x5f356b1eb1da27</td>\n",
       "    </tr>\n",
       "  </tbody>\n",
       "</table>\n",
       "</div>"
      ],
      "text/plain": [
       "                 user_id            name           time  rating  \\\n",
       "0  104256407771930872120       Petre Ene  1551027526726       4   \n",
       "1  108642560086289718425  Keshava Mysore  1510920735052       4   \n",
       "2  111842880135815090774         Carol G  1543249586598       2   \n",
       "3  110299397397951052863              翟泉  1496597796978       4   \n",
       "4  116447973760719145759       Kitae Yim  1540701399450       1   \n",
       "\n",
       "                                                text  \\\n",
       "0  the food is really good, I had a great experie...   \n",
       "1  High prices for not so big portions! But I thi...   \n",
       "2  The gelato looked \"old\" and ended up having co...   \n",
       "3  (Translated by Google) The fast food restauran...   \n",
       "4  (Translated by Google) The food is barely edib...   \n",
       "\n",
       "                                                pics  resp  \\\n",
       "0  [{'url': ['https://lh5.googleusercontent.com/p...  None   \n",
       "1                                               None  None   \n",
       "2                                               None  None   \n",
       "3  [{'url': ['https://lh5.googleusercontent.com/p...  None   \n",
       "4                                               None  None   \n",
       "\n",
       "                               gmap_id  \n",
       "0  0x89b7b7851b06ef6b:0x5f356b1eb1da27  \n",
       "1  0x89b7b7851b06ef6b:0x5f356b1eb1da27  \n",
       "2  0x89b7b7851b06ef6b:0x5f356b1eb1da27  \n",
       "3  0x89b7b7851b06ef6b:0x5f356b1eb1da27  \n",
       "4  0x89b7b7851b06ef6b:0x5f356b1eb1da27  "
      ]
     },
     "execution_count": 3,
     "metadata": {},
     "output_type": "execute_result"
    }
   ],
   "source": [
    "review_zip_file_path = '../data/review-District_of_Columbia_10.json.gz'\n",
    "review_data_frame = gzipped_json_to_dataframe(review_zip_file_path)\n",
    "review_data_frame.head()"
   ]
  },
  {
   "cell_type": "code",
   "execution_count": 4,
   "metadata": {},
   "outputs": [
    {
     "data": {
      "text/html": [
       "<div>\n",
       "<style scoped>\n",
       "    .dataframe tbody tr th:only-of-type {\n",
       "        vertical-align: middle;\n",
       "    }\n",
       "\n",
       "    .dataframe tbody tr th {\n",
       "        vertical-align: top;\n",
       "    }\n",
       "\n",
       "    .dataframe thead th {\n",
       "        text-align: right;\n",
       "    }\n",
       "</style>\n",
       "<table border=\"1\" class=\"dataframe\">\n",
       "  <thead>\n",
       "    <tr style=\"text-align: right;\">\n",
       "      <th></th>\n",
       "      <th>name</th>\n",
       "      <th>address</th>\n",
       "      <th>gmap_id</th>\n",
       "      <th>description</th>\n",
       "      <th>latitude</th>\n",
       "      <th>longitude</th>\n",
       "      <th>category</th>\n",
       "      <th>avg_rating</th>\n",
       "      <th>num_of_reviews</th>\n",
       "      <th>price</th>\n",
       "      <th>hours</th>\n",
       "      <th>MISC</th>\n",
       "      <th>state</th>\n",
       "      <th>relative_results</th>\n",
       "      <th>url</th>\n",
       "    </tr>\n",
       "  </thead>\n",
       "  <tbody>\n",
       "    <tr>\n",
       "      <th>0</th>\n",
       "      <td>Cascade Café</td>\n",
       "      <td>Cascade Café, 599 Constitution Ave. NW, Washin...</td>\n",
       "      <td>0x89b7b7851b06ef6b:0x5f356b1eb1da27</td>\n",
       "      <td>Cafeteria-style dining at the National Gallery...</td>\n",
       "      <td>38.892077</td>\n",
       "      <td>-77.019908</td>\n",
       "      <td>[American restaurant]</td>\n",
       "      <td>2.6</td>\n",
       "      <td>28</td>\n",
       "      <td>None</td>\n",
       "      <td>[[Thursday, 11AM–3PM], [Friday, 11AM–3PM], [Sa...</td>\n",
       "      <td>{'Service options': ['Takeout', 'Dine-in', 'De...</td>\n",
       "      <td>Closed ⋅ Opens 11AM</td>\n",
       "      <td>[0x89b7b79ad5a69a43:0xce2fab5ae44aaf7f, 0x89b7...</td>\n",
       "      <td>https://www.google.com/maps/place//data=!4m2!3...</td>\n",
       "    </tr>\n",
       "    <tr>\n",
       "      <th>7</th>\n",
       "      <td>Smoothie King</td>\n",
       "      <td>Smoothie King, 77 H St NW Ste C, Washington, D...</td>\n",
       "      <td>0x89b7b7ce3577cbfb:0x8a6a6a3ecc20fe86</td>\n",
       "      <td>Health-conscious chain featuring blended drink...</td>\n",
       "      <td>38.900420</td>\n",
       "      <td>-77.011150</td>\n",
       "      <td>[Juice shop, Fast food restaurant, Health food...</td>\n",
       "      <td>3.7</td>\n",
       "      <td>28</td>\n",
       "      <td>None</td>\n",
       "      <td>[[Wednesday, 7AM–9PM], [Thursday, 7AM–9PM], [F...</td>\n",
       "      <td>{'Service options': ['Delivery', 'Takeout', 'D...</td>\n",
       "      <td>Open ⋅ Closes 9PM</td>\n",
       "      <td>[0x89b7b7b1f05ec925:0x1d2086346ec2769f, 0x89b7...</td>\n",
       "      <td>https://www.google.com/maps/place//data=!4m2!3...</td>\n",
       "    </tr>\n",
       "    <tr>\n",
       "      <th>8</th>\n",
       "      <td>Lincoln Park Kitchen &amp; Wine Bar</td>\n",
       "      <td>Lincoln Park Kitchen &amp; Wine Bar, 106 13th St S...</td>\n",
       "      <td>0x89b7b837e7c50a6f:0xd0be494f173acb48</td>\n",
       "      <td>None</td>\n",
       "      <td>38.889423</td>\n",
       "      <td>-76.988012</td>\n",
       "      <td>[Restaurant]</td>\n",
       "      <td>3.9</td>\n",
       "      <td>7</td>\n",
       "      <td>None</td>\n",
       "      <td>[[Wednesday, 5–9PM], [Thursday, 5–9PM], [Frida...</td>\n",
       "      <td>{'Service options': ['Takeout', 'Delivery'], '...</td>\n",
       "      <td>Permanently closed</td>\n",
       "      <td>[0x89b7b9ccd0369351:0x80e1de4fa628189e, 0x89b7...</td>\n",
       "      <td>https://www.google.com/maps/place//data=!4m2!3...</td>\n",
       "    </tr>\n",
       "    <tr>\n",
       "      <th>29</th>\n",
       "      <td>Michel Richard Citronelle</td>\n",
       "      <td>Michel Richard Citronelle, 3000 M St NW, Washi...</td>\n",
       "      <td>0x89b7b64b9ed6a13b:0x42731936aa044d91</td>\n",
       "      <td>None</td>\n",
       "      <td>38.905092</td>\n",
       "      <td>-77.059660</td>\n",
       "      <td>[Restaurant]</td>\n",
       "      <td>4.8</td>\n",
       "      <td>16</td>\n",
       "      <td>$$$$</td>\n",
       "      <td>None</td>\n",
       "      <td>{'Service options': ['Delivery'], 'Highlights'...</td>\n",
       "      <td>None</td>\n",
       "      <td>[0x89b7b64c343c4465:0xe2678aca9cfe765f, 0x89b7...</td>\n",
       "      <td>https://www.google.com/maps/place//data=!4m2!3...</td>\n",
       "    </tr>\n",
       "    <tr>\n",
       "      <th>48</th>\n",
       "      <td>Pizza Autentica</td>\n",
       "      <td>Pizza Autentica, 1331 L St NW #1, Washington, ...</td>\n",
       "      <td>0x89b7b7951b1125e5:0x6848eaecb44aa2cc</td>\n",
       "      <td>Casual local chain serving Neapolitan pizza, s...</td>\n",
       "      <td>38.904082</td>\n",
       "      <td>-77.031063</td>\n",
       "      <td>[Pizza restaurant, Italian restaurant, Neapoli...</td>\n",
       "      <td>4.0</td>\n",
       "      <td>44</td>\n",
       "      <td>$</td>\n",
       "      <td>[[Wednesday, 11AM–9PM], [Thursday, 11AM–9PM], ...</td>\n",
       "      <td>{'Service options': ['Delivery']}</td>\n",
       "      <td>Permanently closed</td>\n",
       "      <td>[0x89b7b826c616b9e3:0xb1e16c82841218f6]</td>\n",
       "      <td>https://www.google.com/maps/place//data=!4m2!3...</td>\n",
       "    </tr>\n",
       "  </tbody>\n",
       "</table>\n",
       "</div>"
      ],
      "text/plain": [
       "                               name  \\\n",
       "0                      Cascade Café   \n",
       "7                     Smoothie King   \n",
       "8   Lincoln Park Kitchen & Wine Bar   \n",
       "29        Michel Richard Citronelle   \n",
       "48                  Pizza Autentica   \n",
       "\n",
       "                                              address  \\\n",
       "0   Cascade Café, 599 Constitution Ave. NW, Washin...   \n",
       "7   Smoothie King, 77 H St NW Ste C, Washington, D...   \n",
       "8   Lincoln Park Kitchen & Wine Bar, 106 13th St S...   \n",
       "29  Michel Richard Citronelle, 3000 M St NW, Washi...   \n",
       "48  Pizza Autentica, 1331 L St NW #1, Washington, ...   \n",
       "\n",
       "                                  gmap_id  \\\n",
       "0     0x89b7b7851b06ef6b:0x5f356b1eb1da27   \n",
       "7   0x89b7b7ce3577cbfb:0x8a6a6a3ecc20fe86   \n",
       "8   0x89b7b837e7c50a6f:0xd0be494f173acb48   \n",
       "29  0x89b7b64b9ed6a13b:0x42731936aa044d91   \n",
       "48  0x89b7b7951b1125e5:0x6848eaecb44aa2cc   \n",
       "\n",
       "                                          description   latitude  longitude  \\\n",
       "0   Cafeteria-style dining at the National Gallery...  38.892077 -77.019908   \n",
       "7   Health-conscious chain featuring blended drink...  38.900420 -77.011150   \n",
       "8                                                None  38.889423 -76.988012   \n",
       "29                                               None  38.905092 -77.059660   \n",
       "48  Casual local chain serving Neapolitan pizza, s...  38.904082 -77.031063   \n",
       "\n",
       "                                             category  avg_rating  \\\n",
       "0                               [American restaurant]         2.6   \n",
       "7   [Juice shop, Fast food restaurant, Health food...         3.7   \n",
       "8                                        [Restaurant]         3.9   \n",
       "29                                       [Restaurant]         4.8   \n",
       "48  [Pizza restaurant, Italian restaurant, Neapoli...         4.0   \n",
       "\n",
       "    num_of_reviews price                                              hours  \\\n",
       "0               28  None  [[Thursday, 11AM–3PM], [Friday, 11AM–3PM], [Sa...   \n",
       "7               28  None  [[Wednesday, 7AM–9PM], [Thursday, 7AM–9PM], [F...   \n",
       "8                7  None  [[Wednesday, 5–9PM], [Thursday, 5–9PM], [Frida...   \n",
       "29              16  $$$$                                               None   \n",
       "48              44     $  [[Wednesday, 11AM–9PM], [Thursday, 11AM–9PM], ...   \n",
       "\n",
       "                                                 MISC                state  \\\n",
       "0   {'Service options': ['Takeout', 'Dine-in', 'De...  Closed ⋅ Opens 11AM   \n",
       "7   {'Service options': ['Delivery', 'Takeout', 'D...    Open ⋅ Closes 9PM   \n",
       "8   {'Service options': ['Takeout', 'Delivery'], '...   Permanently closed   \n",
       "29  {'Service options': ['Delivery'], 'Highlights'...                 None   \n",
       "48                  {'Service options': ['Delivery']}   Permanently closed   \n",
       "\n",
       "                                     relative_results  \\\n",
       "0   [0x89b7b79ad5a69a43:0xce2fab5ae44aaf7f, 0x89b7...   \n",
       "7   [0x89b7b7b1f05ec925:0x1d2086346ec2769f, 0x89b7...   \n",
       "8   [0x89b7b9ccd0369351:0x80e1de4fa628189e, 0x89b7...   \n",
       "29  [0x89b7b64c343c4465:0xe2678aca9cfe765f, 0x89b7...   \n",
       "48            [0x89b7b826c616b9e3:0xb1e16c82841218f6]   \n",
       "\n",
       "                                                  url  \n",
       "0   https://www.google.com/maps/place//data=!4m2!3...  \n",
       "7   https://www.google.com/maps/place//data=!4m2!3...  \n",
       "8   https://www.google.com/maps/place//data=!4m2!3...  \n",
       "29  https://www.google.com/maps/place//data=!4m2!3...  \n",
       "48  https://www.google.com/maps/place//data=!4m2!3...  "
      ]
     },
     "execution_count": 4,
     "metadata": {},
     "output_type": "execute_result"
    }
   ],
   "source": [
    "meta_zip_file_path = '../data/meta-District_of_Columbia.json.gz'\n",
    "meta_data_frame = gzipped_json_to_dataframe(meta_zip_file_path)\n",
    "meta_data_frame = meta_data_frame[meta_data_frame['category'].astype(str).str.contains('restaurant', case=False, na=False)]\n",
    "meta_data_frame = meta_data_frame.drop_duplicates(subset='gmap_id')\n",
    "meta_data_frame.head()"
   ]
  },
  {
   "cell_type": "code",
   "execution_count": 5,
   "metadata": {},
   "outputs": [
    {
     "data": {
      "text/html": [
       "<div>\n",
       "<style scoped>\n",
       "    .dataframe tbody tr th:only-of-type {\n",
       "        vertical-align: middle;\n",
       "    }\n",
       "\n",
       "    .dataframe tbody tr th {\n",
       "        vertical-align: top;\n",
       "    }\n",
       "\n",
       "    .dataframe thead th {\n",
       "        text-align: right;\n",
       "    }\n",
       "</style>\n",
       "<table border=\"1\" class=\"dataframe\">\n",
       "  <thead>\n",
       "    <tr style=\"text-align: right;\">\n",
       "      <th></th>\n",
       "      <th>user_id</th>\n",
       "      <th>name_x</th>\n",
       "      <th>time</th>\n",
       "      <th>rating</th>\n",
       "      <th>text</th>\n",
       "      <th>pics</th>\n",
       "      <th>resp</th>\n",
       "      <th>gmap_id</th>\n",
       "      <th>name_y</th>\n",
       "      <th>address</th>\n",
       "      <th>...</th>\n",
       "      <th>longitude</th>\n",
       "      <th>category</th>\n",
       "      <th>avg_rating</th>\n",
       "      <th>num_of_reviews</th>\n",
       "      <th>price</th>\n",
       "      <th>hours</th>\n",
       "      <th>MISC</th>\n",
       "      <th>state</th>\n",
       "      <th>relative_results</th>\n",
       "      <th>url</th>\n",
       "    </tr>\n",
       "  </thead>\n",
       "  <tbody>\n",
       "    <tr>\n",
       "      <th>0</th>\n",
       "      <td>104256407771930872120</td>\n",
       "      <td>Petre Ene</td>\n",
       "      <td>1551027526726</td>\n",
       "      <td>4</td>\n",
       "      <td>the food is really good, I had a great experie...</td>\n",
       "      <td>[{'url': ['https://lh5.googleusercontent.com/p...</td>\n",
       "      <td>None</td>\n",
       "      <td>0x89b7b7851b06ef6b:0x5f356b1eb1da27</td>\n",
       "      <td>Cascade Café</td>\n",
       "      <td>Cascade Café, 599 Constitution Ave. NW, Washin...</td>\n",
       "      <td>...</td>\n",
       "      <td>-77.019908</td>\n",
       "      <td>[American restaurant]</td>\n",
       "      <td>2.6</td>\n",
       "      <td>28</td>\n",
       "      <td>None</td>\n",
       "      <td>[[Thursday, 11AM–3PM], [Friday, 11AM–3PM], [Sa...</td>\n",
       "      <td>{'Service options': ['Takeout', 'Dine-in', 'De...</td>\n",
       "      <td>Closed ⋅ Opens 11AM</td>\n",
       "      <td>[0x89b7b79ad5a69a43:0xce2fab5ae44aaf7f, 0x89b7...</td>\n",
       "      <td>https://www.google.com/maps/place//data=!4m2!3...</td>\n",
       "    </tr>\n",
       "    <tr>\n",
       "      <th>1</th>\n",
       "      <td>108642560086289718425</td>\n",
       "      <td>Keshava Mysore</td>\n",
       "      <td>1510920735052</td>\n",
       "      <td>4</td>\n",
       "      <td>High prices for not so big portions! But I thi...</td>\n",
       "      <td>None</td>\n",
       "      <td>None</td>\n",
       "      <td>0x89b7b7851b06ef6b:0x5f356b1eb1da27</td>\n",
       "      <td>Cascade Café</td>\n",
       "      <td>Cascade Café, 599 Constitution Ave. NW, Washin...</td>\n",
       "      <td>...</td>\n",
       "      <td>-77.019908</td>\n",
       "      <td>[American restaurant]</td>\n",
       "      <td>2.6</td>\n",
       "      <td>28</td>\n",
       "      <td>None</td>\n",
       "      <td>[[Thursday, 11AM–3PM], [Friday, 11AM–3PM], [Sa...</td>\n",
       "      <td>{'Service options': ['Takeout', 'Dine-in', 'De...</td>\n",
       "      <td>Closed ⋅ Opens 11AM</td>\n",
       "      <td>[0x89b7b79ad5a69a43:0xce2fab5ae44aaf7f, 0x89b7...</td>\n",
       "      <td>https://www.google.com/maps/place//data=!4m2!3...</td>\n",
       "    </tr>\n",
       "    <tr>\n",
       "      <th>2</th>\n",
       "      <td>111842880135815090774</td>\n",
       "      <td>Carol G</td>\n",
       "      <td>1543249586598</td>\n",
       "      <td>2</td>\n",
       "      <td>The gelato looked \"old\" and ended up having co...</td>\n",
       "      <td>None</td>\n",
       "      <td>None</td>\n",
       "      <td>0x89b7b7851b06ef6b:0x5f356b1eb1da27</td>\n",
       "      <td>Cascade Café</td>\n",
       "      <td>Cascade Café, 599 Constitution Ave. NW, Washin...</td>\n",
       "      <td>...</td>\n",
       "      <td>-77.019908</td>\n",
       "      <td>[American restaurant]</td>\n",
       "      <td>2.6</td>\n",
       "      <td>28</td>\n",
       "      <td>None</td>\n",
       "      <td>[[Thursday, 11AM–3PM], [Friday, 11AM–3PM], [Sa...</td>\n",
       "      <td>{'Service options': ['Takeout', 'Dine-in', 'De...</td>\n",
       "      <td>Closed ⋅ Opens 11AM</td>\n",
       "      <td>[0x89b7b79ad5a69a43:0xce2fab5ae44aaf7f, 0x89b7...</td>\n",
       "      <td>https://www.google.com/maps/place//data=!4m2!3...</td>\n",
       "    </tr>\n",
       "    <tr>\n",
       "      <th>3</th>\n",
       "      <td>110299397397951052863</td>\n",
       "      <td>翟泉</td>\n",
       "      <td>1496597796978</td>\n",
       "      <td>4</td>\n",
       "      <td>(Translated by Google) The fast food restauran...</td>\n",
       "      <td>[{'url': ['https://lh5.googleusercontent.com/p...</td>\n",
       "      <td>None</td>\n",
       "      <td>0x89b7b7851b06ef6b:0x5f356b1eb1da27</td>\n",
       "      <td>Cascade Café</td>\n",
       "      <td>Cascade Café, 599 Constitution Ave. NW, Washin...</td>\n",
       "      <td>...</td>\n",
       "      <td>-77.019908</td>\n",
       "      <td>[American restaurant]</td>\n",
       "      <td>2.6</td>\n",
       "      <td>28</td>\n",
       "      <td>None</td>\n",
       "      <td>[[Thursday, 11AM–3PM], [Friday, 11AM–3PM], [Sa...</td>\n",
       "      <td>{'Service options': ['Takeout', 'Dine-in', 'De...</td>\n",
       "      <td>Closed ⋅ Opens 11AM</td>\n",
       "      <td>[0x89b7b79ad5a69a43:0xce2fab5ae44aaf7f, 0x89b7...</td>\n",
       "      <td>https://www.google.com/maps/place//data=!4m2!3...</td>\n",
       "    </tr>\n",
       "    <tr>\n",
       "      <th>4</th>\n",
       "      <td>116447973760719145759</td>\n",
       "      <td>Kitae Yim</td>\n",
       "      <td>1540701399450</td>\n",
       "      <td>1</td>\n",
       "      <td>(Translated by Google) The food is barely edib...</td>\n",
       "      <td>None</td>\n",
       "      <td>None</td>\n",
       "      <td>0x89b7b7851b06ef6b:0x5f356b1eb1da27</td>\n",
       "      <td>Cascade Café</td>\n",
       "      <td>Cascade Café, 599 Constitution Ave. NW, Washin...</td>\n",
       "      <td>...</td>\n",
       "      <td>-77.019908</td>\n",
       "      <td>[American restaurant]</td>\n",
       "      <td>2.6</td>\n",
       "      <td>28</td>\n",
       "      <td>None</td>\n",
       "      <td>[[Thursday, 11AM–3PM], [Friday, 11AM–3PM], [Sa...</td>\n",
       "      <td>{'Service options': ['Takeout', 'Dine-in', 'De...</td>\n",
       "      <td>Closed ⋅ Opens 11AM</td>\n",
       "      <td>[0x89b7b79ad5a69a43:0xce2fab5ae44aaf7f, 0x89b7...</td>\n",
       "      <td>https://www.google.com/maps/place//data=!4m2!3...</td>\n",
       "    </tr>\n",
       "  </tbody>\n",
       "</table>\n",
       "<p>5 rows × 22 columns</p>\n",
       "</div>"
      ],
      "text/plain": [
       "                 user_id          name_x           time  rating  \\\n",
       "0  104256407771930872120       Petre Ene  1551027526726       4   \n",
       "1  108642560086289718425  Keshava Mysore  1510920735052       4   \n",
       "2  111842880135815090774         Carol G  1543249586598       2   \n",
       "3  110299397397951052863              翟泉  1496597796978       4   \n",
       "4  116447973760719145759       Kitae Yim  1540701399450       1   \n",
       "\n",
       "                                                text  \\\n",
       "0  the food is really good, I had a great experie...   \n",
       "1  High prices for not so big portions! But I thi...   \n",
       "2  The gelato looked \"old\" and ended up having co...   \n",
       "3  (Translated by Google) The fast food restauran...   \n",
       "4  (Translated by Google) The food is barely edib...   \n",
       "\n",
       "                                                pics  resp  \\\n",
       "0  [{'url': ['https://lh5.googleusercontent.com/p...  None   \n",
       "1                                               None  None   \n",
       "2                                               None  None   \n",
       "3  [{'url': ['https://lh5.googleusercontent.com/p...  None   \n",
       "4                                               None  None   \n",
       "\n",
       "                               gmap_id        name_y  \\\n",
       "0  0x89b7b7851b06ef6b:0x5f356b1eb1da27  Cascade Café   \n",
       "1  0x89b7b7851b06ef6b:0x5f356b1eb1da27  Cascade Café   \n",
       "2  0x89b7b7851b06ef6b:0x5f356b1eb1da27  Cascade Café   \n",
       "3  0x89b7b7851b06ef6b:0x5f356b1eb1da27  Cascade Café   \n",
       "4  0x89b7b7851b06ef6b:0x5f356b1eb1da27  Cascade Café   \n",
       "\n",
       "                                             address  ...  longitude  \\\n",
       "0  Cascade Café, 599 Constitution Ave. NW, Washin...  ... -77.019908   \n",
       "1  Cascade Café, 599 Constitution Ave. NW, Washin...  ... -77.019908   \n",
       "2  Cascade Café, 599 Constitution Ave. NW, Washin...  ... -77.019908   \n",
       "3  Cascade Café, 599 Constitution Ave. NW, Washin...  ... -77.019908   \n",
       "4  Cascade Café, 599 Constitution Ave. NW, Washin...  ... -77.019908   \n",
       "\n",
       "                category  avg_rating num_of_reviews  price  \\\n",
       "0  [American restaurant]         2.6             28   None   \n",
       "1  [American restaurant]         2.6             28   None   \n",
       "2  [American restaurant]         2.6             28   None   \n",
       "3  [American restaurant]         2.6             28   None   \n",
       "4  [American restaurant]         2.6             28   None   \n",
       "\n",
       "                                               hours  \\\n",
       "0  [[Thursday, 11AM–3PM], [Friday, 11AM–3PM], [Sa...   \n",
       "1  [[Thursday, 11AM–3PM], [Friday, 11AM–3PM], [Sa...   \n",
       "2  [[Thursday, 11AM–3PM], [Friday, 11AM–3PM], [Sa...   \n",
       "3  [[Thursday, 11AM–3PM], [Friday, 11AM–3PM], [Sa...   \n",
       "4  [[Thursday, 11AM–3PM], [Friday, 11AM–3PM], [Sa...   \n",
       "\n",
       "                                                MISC                state  \\\n",
       "0  {'Service options': ['Takeout', 'Dine-in', 'De...  Closed ⋅ Opens 11AM   \n",
       "1  {'Service options': ['Takeout', 'Dine-in', 'De...  Closed ⋅ Opens 11AM   \n",
       "2  {'Service options': ['Takeout', 'Dine-in', 'De...  Closed ⋅ Opens 11AM   \n",
       "3  {'Service options': ['Takeout', 'Dine-in', 'De...  Closed ⋅ Opens 11AM   \n",
       "4  {'Service options': ['Takeout', 'Dine-in', 'De...  Closed ⋅ Opens 11AM   \n",
       "\n",
       "                                    relative_results  \\\n",
       "0  [0x89b7b79ad5a69a43:0xce2fab5ae44aaf7f, 0x89b7...   \n",
       "1  [0x89b7b79ad5a69a43:0xce2fab5ae44aaf7f, 0x89b7...   \n",
       "2  [0x89b7b79ad5a69a43:0xce2fab5ae44aaf7f, 0x89b7...   \n",
       "3  [0x89b7b79ad5a69a43:0xce2fab5ae44aaf7f, 0x89b7...   \n",
       "4  [0x89b7b79ad5a69a43:0xce2fab5ae44aaf7f, 0x89b7...   \n",
       "\n",
       "                                                 url  \n",
       "0  https://www.google.com/maps/place//data=!4m2!3...  \n",
       "1  https://www.google.com/maps/place//data=!4m2!3...  \n",
       "2  https://www.google.com/maps/place//data=!4m2!3...  \n",
       "3  https://www.google.com/maps/place//data=!4m2!3...  \n",
       "4  https://www.google.com/maps/place//data=!4m2!3...  \n",
       "\n",
       "[5 rows x 22 columns]"
      ]
     },
     "execution_count": 5,
     "metadata": {},
     "output_type": "execute_result"
    }
   ],
   "source": [
    "merged_data_frame = pd.merge(review_data_frame, meta_data_frame, on='gmap_id', how='inner')\n",
    "merged_data_frame.head()"
   ]
  },
  {
   "cell_type": "markdown",
   "metadata": {},
   "source": [
    "# Data Processing"
   ]
  },
  {
   "cell_type": "code",
   "execution_count": 6,
   "metadata": {},
   "outputs": [
    {
     "data": {
      "text/html": [
       "<div>\n",
       "<style scoped>\n",
       "    .dataframe tbody tr th:only-of-type {\n",
       "        vertical-align: middle;\n",
       "    }\n",
       "\n",
       "    .dataframe tbody tr th {\n",
       "        vertical-align: top;\n",
       "    }\n",
       "\n",
       "    .dataframe thead th {\n",
       "        text-align: right;\n",
       "    }\n",
       "</style>\n",
       "<table border=\"1\" class=\"dataframe\">\n",
       "  <thead>\n",
       "    <tr style=\"text-align: right;\">\n",
       "      <th></th>\n",
       "      <th>Rating</th>\n",
       "      <th>Num Pictures</th>\n",
       "    </tr>\n",
       "  </thead>\n",
       "  <tbody>\n",
       "    <tr>\n",
       "      <th>0</th>\n",
       "      <td>4</td>\n",
       "      <td>3</td>\n",
       "    </tr>\n",
       "    <tr>\n",
       "      <th>1</th>\n",
       "      <td>4</td>\n",
       "      <td>0</td>\n",
       "    </tr>\n",
       "    <tr>\n",
       "      <th>2</th>\n",
       "      <td>2</td>\n",
       "      <td>0</td>\n",
       "    </tr>\n",
       "    <tr>\n",
       "      <th>3</th>\n",
       "      <td>4</td>\n",
       "      <td>2</td>\n",
       "    </tr>\n",
       "    <tr>\n",
       "      <th>4</th>\n",
       "      <td>1</td>\n",
       "      <td>0</td>\n",
       "    </tr>\n",
       "  </tbody>\n",
       "</table>\n",
       "</div>"
      ],
      "text/plain": [
       "   Rating  Num Pictures\n",
       "0       4             3\n",
       "1       4             0\n",
       "2       2             0\n",
       "3       4             2\n",
       "4       1             0"
      ]
     },
     "execution_count": 6,
     "metadata": {},
     "output_type": "execute_result"
    }
   ],
   "source": [
    "picture_data_frame = pd.DataFrame(merged_data_frame, columns=['rating', 'pics'])\n",
    "picture_data_frame['pics'] = picture_data_frame['pics'].apply(lambda x: len(x) if x is not None else 0)\n",
    "picture_data_frame.rename(columns={'rating': 'Rating', 'pics': 'Num Pictures'}, inplace=True)\n",
    "picture_data_frame.head()"
   ]
  },
  {
   "cell_type": "code",
   "execution_count": 7,
   "metadata": {},
   "outputs": [],
   "source": [
    "# Calculate total count of each rating\n",
    "rating_counts = picture_data_frame['Rating'].value_counts().sort_index()\n",
    "\n",
    "# Calculate average number of pictures for each rating\n",
    "avg_pictures_per_rating = picture_data_frame.groupby('Rating')['Num Pictures'].mean()\n",
    "\n",
    "summary_data_frame = pd.DataFrame({'Count': rating_counts, 'Avg. Num Pictures': avg_pictures_per_rating}).reset_index().rename(columns={'index': 'Rating'})"
   ]
  },
  {
   "cell_type": "code",
   "execution_count": 8,
   "metadata": {},
   "outputs": [
    {
     "data": {
      "application/vnd.plotly.v1+json": {
       "config": {
        "plotlyServerURL": "https://plot.ly"
       },
       "data": [
        {
         "alignmentgroup": "True",
         "hovertemplate": "Rating=%{x}<br>Count=%{y}<extra></extra>",
         "legendgroup": "",
         "marker": {
          "color": "#636efa",
          "pattern": {
           "shape": ""
          }
         },
         "name": "",
         "offsetgroup": "",
         "orientation": "v",
         "showlegend": false,
         "textposition": "auto",
         "type": "bar",
         "x": [
          1,
          2,
          3,
          4,
          5
         ],
         "xaxis": "x",
         "y": [
          8573,
          9498,
          32965,
          80199,
          156737
         ],
         "yaxis": "y"
        }
       ],
       "layout": {
        "barmode": "relative",
        "legend": {
         "tracegroupgap": 0
        },
        "template": {
         "data": {
          "bar": [
           {
            "error_x": {
             "color": "#2a3f5f"
            },
            "error_y": {
             "color": "#2a3f5f"
            },
            "marker": {
             "line": {
              "color": "#E5ECF6",
              "width": 0.5
             },
             "pattern": {
              "fillmode": "overlay",
              "size": 10,
              "solidity": 0.2
             }
            },
            "type": "bar"
           }
          ],
          "barpolar": [
           {
            "marker": {
             "line": {
              "color": "#E5ECF6",
              "width": 0.5
             },
             "pattern": {
              "fillmode": "overlay",
              "size": 10,
              "solidity": 0.2
             }
            },
            "type": "barpolar"
           }
          ],
          "carpet": [
           {
            "aaxis": {
             "endlinecolor": "#2a3f5f",
             "gridcolor": "white",
             "linecolor": "white",
             "minorgridcolor": "white",
             "startlinecolor": "#2a3f5f"
            },
            "baxis": {
             "endlinecolor": "#2a3f5f",
             "gridcolor": "white",
             "linecolor": "white",
             "minorgridcolor": "white",
             "startlinecolor": "#2a3f5f"
            },
            "type": "carpet"
           }
          ],
          "choropleth": [
           {
            "colorbar": {
             "outlinewidth": 0,
             "ticks": ""
            },
            "type": "choropleth"
           }
          ],
          "contour": [
           {
            "colorbar": {
             "outlinewidth": 0,
             "ticks": ""
            },
            "colorscale": [
             [
              0,
              "#0d0887"
             ],
             [
              0.1111111111111111,
              "#46039f"
             ],
             [
              0.2222222222222222,
              "#7201a8"
             ],
             [
              0.3333333333333333,
              "#9c179e"
             ],
             [
              0.4444444444444444,
              "#bd3786"
             ],
             [
              0.5555555555555556,
              "#d8576b"
             ],
             [
              0.6666666666666666,
              "#ed7953"
             ],
             [
              0.7777777777777778,
              "#fb9f3a"
             ],
             [
              0.8888888888888888,
              "#fdca26"
             ],
             [
              1,
              "#f0f921"
             ]
            ],
            "type": "contour"
           }
          ],
          "contourcarpet": [
           {
            "colorbar": {
             "outlinewidth": 0,
             "ticks": ""
            },
            "type": "contourcarpet"
           }
          ],
          "heatmap": [
           {
            "colorbar": {
             "outlinewidth": 0,
             "ticks": ""
            },
            "colorscale": [
             [
              0,
              "#0d0887"
             ],
             [
              0.1111111111111111,
              "#46039f"
             ],
             [
              0.2222222222222222,
              "#7201a8"
             ],
             [
              0.3333333333333333,
              "#9c179e"
             ],
             [
              0.4444444444444444,
              "#bd3786"
             ],
             [
              0.5555555555555556,
              "#d8576b"
             ],
             [
              0.6666666666666666,
              "#ed7953"
             ],
             [
              0.7777777777777778,
              "#fb9f3a"
             ],
             [
              0.8888888888888888,
              "#fdca26"
             ],
             [
              1,
              "#f0f921"
             ]
            ],
            "type": "heatmap"
           }
          ],
          "heatmapgl": [
           {
            "colorbar": {
             "outlinewidth": 0,
             "ticks": ""
            },
            "colorscale": [
             [
              0,
              "#0d0887"
             ],
             [
              0.1111111111111111,
              "#46039f"
             ],
             [
              0.2222222222222222,
              "#7201a8"
             ],
             [
              0.3333333333333333,
              "#9c179e"
             ],
             [
              0.4444444444444444,
              "#bd3786"
             ],
             [
              0.5555555555555556,
              "#d8576b"
             ],
             [
              0.6666666666666666,
              "#ed7953"
             ],
             [
              0.7777777777777778,
              "#fb9f3a"
             ],
             [
              0.8888888888888888,
              "#fdca26"
             ],
             [
              1,
              "#f0f921"
             ]
            ],
            "type": "heatmapgl"
           }
          ],
          "histogram": [
           {
            "marker": {
             "pattern": {
              "fillmode": "overlay",
              "size": 10,
              "solidity": 0.2
             }
            },
            "type": "histogram"
           }
          ],
          "histogram2d": [
           {
            "colorbar": {
             "outlinewidth": 0,
             "ticks": ""
            },
            "colorscale": [
             [
              0,
              "#0d0887"
             ],
             [
              0.1111111111111111,
              "#46039f"
             ],
             [
              0.2222222222222222,
              "#7201a8"
             ],
             [
              0.3333333333333333,
              "#9c179e"
             ],
             [
              0.4444444444444444,
              "#bd3786"
             ],
             [
              0.5555555555555556,
              "#d8576b"
             ],
             [
              0.6666666666666666,
              "#ed7953"
             ],
             [
              0.7777777777777778,
              "#fb9f3a"
             ],
             [
              0.8888888888888888,
              "#fdca26"
             ],
             [
              1,
              "#f0f921"
             ]
            ],
            "type": "histogram2d"
           }
          ],
          "histogram2dcontour": [
           {
            "colorbar": {
             "outlinewidth": 0,
             "ticks": ""
            },
            "colorscale": [
             [
              0,
              "#0d0887"
             ],
             [
              0.1111111111111111,
              "#46039f"
             ],
             [
              0.2222222222222222,
              "#7201a8"
             ],
             [
              0.3333333333333333,
              "#9c179e"
             ],
             [
              0.4444444444444444,
              "#bd3786"
             ],
             [
              0.5555555555555556,
              "#d8576b"
             ],
             [
              0.6666666666666666,
              "#ed7953"
             ],
             [
              0.7777777777777778,
              "#fb9f3a"
             ],
             [
              0.8888888888888888,
              "#fdca26"
             ],
             [
              1,
              "#f0f921"
             ]
            ],
            "type": "histogram2dcontour"
           }
          ],
          "mesh3d": [
           {
            "colorbar": {
             "outlinewidth": 0,
             "ticks": ""
            },
            "type": "mesh3d"
           }
          ],
          "parcoords": [
           {
            "line": {
             "colorbar": {
              "outlinewidth": 0,
              "ticks": ""
             }
            },
            "type": "parcoords"
           }
          ],
          "pie": [
           {
            "automargin": true,
            "type": "pie"
           }
          ],
          "scatter": [
           {
            "fillpattern": {
             "fillmode": "overlay",
             "size": 10,
             "solidity": 0.2
            },
            "type": "scatter"
           }
          ],
          "scatter3d": [
           {
            "line": {
             "colorbar": {
              "outlinewidth": 0,
              "ticks": ""
             }
            },
            "marker": {
             "colorbar": {
              "outlinewidth": 0,
              "ticks": ""
             }
            },
            "type": "scatter3d"
           }
          ],
          "scattercarpet": [
           {
            "marker": {
             "colorbar": {
              "outlinewidth": 0,
              "ticks": ""
             }
            },
            "type": "scattercarpet"
           }
          ],
          "scattergeo": [
           {
            "marker": {
             "colorbar": {
              "outlinewidth": 0,
              "ticks": ""
             }
            },
            "type": "scattergeo"
           }
          ],
          "scattergl": [
           {
            "marker": {
             "colorbar": {
              "outlinewidth": 0,
              "ticks": ""
             }
            },
            "type": "scattergl"
           }
          ],
          "scattermapbox": [
           {
            "marker": {
             "colorbar": {
              "outlinewidth": 0,
              "ticks": ""
             }
            },
            "type": "scattermapbox"
           }
          ],
          "scatterpolar": [
           {
            "marker": {
             "colorbar": {
              "outlinewidth": 0,
              "ticks": ""
             }
            },
            "type": "scatterpolar"
           }
          ],
          "scatterpolargl": [
           {
            "marker": {
             "colorbar": {
              "outlinewidth": 0,
              "ticks": ""
             }
            },
            "type": "scatterpolargl"
           }
          ],
          "scatterternary": [
           {
            "marker": {
             "colorbar": {
              "outlinewidth": 0,
              "ticks": ""
             }
            },
            "type": "scatterternary"
           }
          ],
          "surface": [
           {
            "colorbar": {
             "outlinewidth": 0,
             "ticks": ""
            },
            "colorscale": [
             [
              0,
              "#0d0887"
             ],
             [
              0.1111111111111111,
              "#46039f"
             ],
             [
              0.2222222222222222,
              "#7201a8"
             ],
             [
              0.3333333333333333,
              "#9c179e"
             ],
             [
              0.4444444444444444,
              "#bd3786"
             ],
             [
              0.5555555555555556,
              "#d8576b"
             ],
             [
              0.6666666666666666,
              "#ed7953"
             ],
             [
              0.7777777777777778,
              "#fb9f3a"
             ],
             [
              0.8888888888888888,
              "#fdca26"
             ],
             [
              1,
              "#f0f921"
             ]
            ],
            "type": "surface"
           }
          ],
          "table": [
           {
            "cells": {
             "fill": {
              "color": "#EBF0F8"
             },
             "line": {
              "color": "white"
             }
            },
            "header": {
             "fill": {
              "color": "#C8D4E3"
             },
             "line": {
              "color": "white"
             }
            },
            "type": "table"
           }
          ]
         },
         "layout": {
          "annotationdefaults": {
           "arrowcolor": "#2a3f5f",
           "arrowhead": 0,
           "arrowwidth": 1
          },
          "autotypenumbers": "strict",
          "coloraxis": {
           "colorbar": {
            "outlinewidth": 0,
            "ticks": ""
           }
          },
          "colorscale": {
           "diverging": [
            [
             0,
             "#8e0152"
            ],
            [
             0.1,
             "#c51b7d"
            ],
            [
             0.2,
             "#de77ae"
            ],
            [
             0.3,
             "#f1b6da"
            ],
            [
             0.4,
             "#fde0ef"
            ],
            [
             0.5,
             "#f7f7f7"
            ],
            [
             0.6,
             "#e6f5d0"
            ],
            [
             0.7,
             "#b8e186"
            ],
            [
             0.8,
             "#7fbc41"
            ],
            [
             0.9,
             "#4d9221"
            ],
            [
             1,
             "#276419"
            ]
           ],
           "sequential": [
            [
             0,
             "#0d0887"
            ],
            [
             0.1111111111111111,
             "#46039f"
            ],
            [
             0.2222222222222222,
             "#7201a8"
            ],
            [
             0.3333333333333333,
             "#9c179e"
            ],
            [
             0.4444444444444444,
             "#bd3786"
            ],
            [
             0.5555555555555556,
             "#d8576b"
            ],
            [
             0.6666666666666666,
             "#ed7953"
            ],
            [
             0.7777777777777778,
             "#fb9f3a"
            ],
            [
             0.8888888888888888,
             "#fdca26"
            ],
            [
             1,
             "#f0f921"
            ]
           ],
           "sequentialminus": [
            [
             0,
             "#0d0887"
            ],
            [
             0.1111111111111111,
             "#46039f"
            ],
            [
             0.2222222222222222,
             "#7201a8"
            ],
            [
             0.3333333333333333,
             "#9c179e"
            ],
            [
             0.4444444444444444,
             "#bd3786"
            ],
            [
             0.5555555555555556,
             "#d8576b"
            ],
            [
             0.6666666666666666,
             "#ed7953"
            ],
            [
             0.7777777777777778,
             "#fb9f3a"
            ],
            [
             0.8888888888888888,
             "#fdca26"
            ],
            [
             1,
             "#f0f921"
            ]
           ]
          },
          "colorway": [
           "#636efa",
           "#EF553B",
           "#00cc96",
           "#ab63fa",
           "#FFA15A",
           "#19d3f3",
           "#FF6692",
           "#B6E880",
           "#FF97FF",
           "#FECB52"
          ],
          "font": {
           "color": "#2a3f5f"
          },
          "geo": {
           "bgcolor": "white",
           "lakecolor": "white",
           "landcolor": "#E5ECF6",
           "showlakes": true,
           "showland": true,
           "subunitcolor": "white"
          },
          "hoverlabel": {
           "align": "left"
          },
          "hovermode": "closest",
          "mapbox": {
           "style": "light"
          },
          "paper_bgcolor": "white",
          "plot_bgcolor": "#E5ECF6",
          "polar": {
           "angularaxis": {
            "gridcolor": "white",
            "linecolor": "white",
            "ticks": ""
           },
           "bgcolor": "#E5ECF6",
           "radialaxis": {
            "gridcolor": "white",
            "linecolor": "white",
            "ticks": ""
           }
          },
          "scene": {
           "xaxis": {
            "backgroundcolor": "#E5ECF6",
            "gridcolor": "white",
            "gridwidth": 2,
            "linecolor": "white",
            "showbackground": true,
            "ticks": "",
            "zerolinecolor": "white"
           },
           "yaxis": {
            "backgroundcolor": "#E5ECF6",
            "gridcolor": "white",
            "gridwidth": 2,
            "linecolor": "white",
            "showbackground": true,
            "ticks": "",
            "zerolinecolor": "white"
           },
           "zaxis": {
            "backgroundcolor": "#E5ECF6",
            "gridcolor": "white",
            "gridwidth": 2,
            "linecolor": "white",
            "showbackground": true,
            "ticks": "",
            "zerolinecolor": "white"
           }
          },
          "shapedefaults": {
           "line": {
            "color": "#2a3f5f"
           }
          },
          "ternary": {
           "aaxis": {
            "gridcolor": "white",
            "linecolor": "white",
            "ticks": ""
           },
           "baxis": {
            "gridcolor": "white",
            "linecolor": "white",
            "ticks": ""
           },
           "bgcolor": "#E5ECF6",
           "caxis": {
            "gridcolor": "white",
            "linecolor": "white",
            "ticks": ""
           }
          },
          "title": {
           "x": 0.05
          },
          "xaxis": {
           "automargin": true,
           "gridcolor": "white",
           "linecolor": "white",
           "ticks": "",
           "title": {
            "standoff": 15
           },
           "zerolinecolor": "white",
           "zerolinewidth": 2
          },
          "yaxis": {
           "automargin": true,
           "gridcolor": "white",
           "linecolor": "white",
           "ticks": "",
           "title": {
            "standoff": 15
           },
           "zerolinecolor": "white",
           "zerolinewidth": 2
          }
         }
        },
        "title": {
         "text": "Total Count of Each Rating"
        },
        "uniformtext": {
         "mode": "hide"
        },
        "xaxis": {
         "anchor": "y",
         "domain": [
          0,
          1
         ],
         "title": {
          "text": "Rating"
         }
        },
        "yaxis": {
         "anchor": "x",
         "domain": [
          0,
          1
         ],
         "title": {
          "text": "Total Count"
         }
        }
       }
      }
     },
     "metadata": {},
     "output_type": "display_data"
    }
   ],
   "source": [
    "# Plot total count\n",
    "fig1 = px.bar(summary_data_frame, x='Rating', y='Count', title='Total Count of Each Rating')\n",
    "fig1.update_layout(xaxis_title=\"Rating\", yaxis_title=\"Total Count\", uniformtext_mode='hide')\n",
    "fig1.show()"
   ]
  },
  {
   "cell_type": "code",
   "execution_count": 9,
   "metadata": {},
   "outputs": [
    {
     "data": {
      "application/vnd.plotly.v1+json": {
       "config": {
        "plotlyServerURL": "https://plot.ly"
       },
       "data": [
        {
         "alignmentgroup": "True",
         "hovertemplate": "Rating=%{x}<br>Avg. Num Pictures=%{y}<extra></extra>",
         "legendgroup": "",
         "marker": {
          "color": "#636efa",
          "pattern": {
           "shape": ""
          }
         },
         "name": "",
         "offsetgroup": "",
         "orientation": "v",
         "showlegend": false,
         "textposition": "auto",
         "type": "bar",
         "x": [
          1,
          2,
          3,
          4,
          5
         ],
         "xaxis": "x",
         "y": [
          0.06357167852560364,
          0.07275215834912613,
          0.1027756711663886,
          0.1432686193094677,
          0.20115224867134116
         ],
         "yaxis": "y"
        }
       ],
       "layout": {
        "barmode": "relative",
        "legend": {
         "tracegroupgap": 0
        },
        "template": {
         "data": {
          "bar": [
           {
            "error_x": {
             "color": "#2a3f5f"
            },
            "error_y": {
             "color": "#2a3f5f"
            },
            "marker": {
             "line": {
              "color": "#E5ECF6",
              "width": 0.5
             },
             "pattern": {
              "fillmode": "overlay",
              "size": 10,
              "solidity": 0.2
             }
            },
            "type": "bar"
           }
          ],
          "barpolar": [
           {
            "marker": {
             "line": {
              "color": "#E5ECF6",
              "width": 0.5
             },
             "pattern": {
              "fillmode": "overlay",
              "size": 10,
              "solidity": 0.2
             }
            },
            "type": "barpolar"
           }
          ],
          "carpet": [
           {
            "aaxis": {
             "endlinecolor": "#2a3f5f",
             "gridcolor": "white",
             "linecolor": "white",
             "minorgridcolor": "white",
             "startlinecolor": "#2a3f5f"
            },
            "baxis": {
             "endlinecolor": "#2a3f5f",
             "gridcolor": "white",
             "linecolor": "white",
             "minorgridcolor": "white",
             "startlinecolor": "#2a3f5f"
            },
            "type": "carpet"
           }
          ],
          "choropleth": [
           {
            "colorbar": {
             "outlinewidth": 0,
             "ticks": ""
            },
            "type": "choropleth"
           }
          ],
          "contour": [
           {
            "colorbar": {
             "outlinewidth": 0,
             "ticks": ""
            },
            "colorscale": [
             [
              0,
              "#0d0887"
             ],
             [
              0.1111111111111111,
              "#46039f"
             ],
             [
              0.2222222222222222,
              "#7201a8"
             ],
             [
              0.3333333333333333,
              "#9c179e"
             ],
             [
              0.4444444444444444,
              "#bd3786"
             ],
             [
              0.5555555555555556,
              "#d8576b"
             ],
             [
              0.6666666666666666,
              "#ed7953"
             ],
             [
              0.7777777777777778,
              "#fb9f3a"
             ],
             [
              0.8888888888888888,
              "#fdca26"
             ],
             [
              1,
              "#f0f921"
             ]
            ],
            "type": "contour"
           }
          ],
          "contourcarpet": [
           {
            "colorbar": {
             "outlinewidth": 0,
             "ticks": ""
            },
            "type": "contourcarpet"
           }
          ],
          "heatmap": [
           {
            "colorbar": {
             "outlinewidth": 0,
             "ticks": ""
            },
            "colorscale": [
             [
              0,
              "#0d0887"
             ],
             [
              0.1111111111111111,
              "#46039f"
             ],
             [
              0.2222222222222222,
              "#7201a8"
             ],
             [
              0.3333333333333333,
              "#9c179e"
             ],
             [
              0.4444444444444444,
              "#bd3786"
             ],
             [
              0.5555555555555556,
              "#d8576b"
             ],
             [
              0.6666666666666666,
              "#ed7953"
             ],
             [
              0.7777777777777778,
              "#fb9f3a"
             ],
             [
              0.8888888888888888,
              "#fdca26"
             ],
             [
              1,
              "#f0f921"
             ]
            ],
            "type": "heatmap"
           }
          ],
          "heatmapgl": [
           {
            "colorbar": {
             "outlinewidth": 0,
             "ticks": ""
            },
            "colorscale": [
             [
              0,
              "#0d0887"
             ],
             [
              0.1111111111111111,
              "#46039f"
             ],
             [
              0.2222222222222222,
              "#7201a8"
             ],
             [
              0.3333333333333333,
              "#9c179e"
             ],
             [
              0.4444444444444444,
              "#bd3786"
             ],
             [
              0.5555555555555556,
              "#d8576b"
             ],
             [
              0.6666666666666666,
              "#ed7953"
             ],
             [
              0.7777777777777778,
              "#fb9f3a"
             ],
             [
              0.8888888888888888,
              "#fdca26"
             ],
             [
              1,
              "#f0f921"
             ]
            ],
            "type": "heatmapgl"
           }
          ],
          "histogram": [
           {
            "marker": {
             "pattern": {
              "fillmode": "overlay",
              "size": 10,
              "solidity": 0.2
             }
            },
            "type": "histogram"
           }
          ],
          "histogram2d": [
           {
            "colorbar": {
             "outlinewidth": 0,
             "ticks": ""
            },
            "colorscale": [
             [
              0,
              "#0d0887"
             ],
             [
              0.1111111111111111,
              "#46039f"
             ],
             [
              0.2222222222222222,
              "#7201a8"
             ],
             [
              0.3333333333333333,
              "#9c179e"
             ],
             [
              0.4444444444444444,
              "#bd3786"
             ],
             [
              0.5555555555555556,
              "#d8576b"
             ],
             [
              0.6666666666666666,
              "#ed7953"
             ],
             [
              0.7777777777777778,
              "#fb9f3a"
             ],
             [
              0.8888888888888888,
              "#fdca26"
             ],
             [
              1,
              "#f0f921"
             ]
            ],
            "type": "histogram2d"
           }
          ],
          "histogram2dcontour": [
           {
            "colorbar": {
             "outlinewidth": 0,
             "ticks": ""
            },
            "colorscale": [
             [
              0,
              "#0d0887"
             ],
             [
              0.1111111111111111,
              "#46039f"
             ],
             [
              0.2222222222222222,
              "#7201a8"
             ],
             [
              0.3333333333333333,
              "#9c179e"
             ],
             [
              0.4444444444444444,
              "#bd3786"
             ],
             [
              0.5555555555555556,
              "#d8576b"
             ],
             [
              0.6666666666666666,
              "#ed7953"
             ],
             [
              0.7777777777777778,
              "#fb9f3a"
             ],
             [
              0.8888888888888888,
              "#fdca26"
             ],
             [
              1,
              "#f0f921"
             ]
            ],
            "type": "histogram2dcontour"
           }
          ],
          "mesh3d": [
           {
            "colorbar": {
             "outlinewidth": 0,
             "ticks": ""
            },
            "type": "mesh3d"
           }
          ],
          "parcoords": [
           {
            "line": {
             "colorbar": {
              "outlinewidth": 0,
              "ticks": ""
             }
            },
            "type": "parcoords"
           }
          ],
          "pie": [
           {
            "automargin": true,
            "type": "pie"
           }
          ],
          "scatter": [
           {
            "fillpattern": {
             "fillmode": "overlay",
             "size": 10,
             "solidity": 0.2
            },
            "type": "scatter"
           }
          ],
          "scatter3d": [
           {
            "line": {
             "colorbar": {
              "outlinewidth": 0,
              "ticks": ""
             }
            },
            "marker": {
             "colorbar": {
              "outlinewidth": 0,
              "ticks": ""
             }
            },
            "type": "scatter3d"
           }
          ],
          "scattercarpet": [
           {
            "marker": {
             "colorbar": {
              "outlinewidth": 0,
              "ticks": ""
             }
            },
            "type": "scattercarpet"
           }
          ],
          "scattergeo": [
           {
            "marker": {
             "colorbar": {
              "outlinewidth": 0,
              "ticks": ""
             }
            },
            "type": "scattergeo"
           }
          ],
          "scattergl": [
           {
            "marker": {
             "colorbar": {
              "outlinewidth": 0,
              "ticks": ""
             }
            },
            "type": "scattergl"
           }
          ],
          "scattermapbox": [
           {
            "marker": {
             "colorbar": {
              "outlinewidth": 0,
              "ticks": ""
             }
            },
            "type": "scattermapbox"
           }
          ],
          "scatterpolar": [
           {
            "marker": {
             "colorbar": {
              "outlinewidth": 0,
              "ticks": ""
             }
            },
            "type": "scatterpolar"
           }
          ],
          "scatterpolargl": [
           {
            "marker": {
             "colorbar": {
              "outlinewidth": 0,
              "ticks": ""
             }
            },
            "type": "scatterpolargl"
           }
          ],
          "scatterternary": [
           {
            "marker": {
             "colorbar": {
              "outlinewidth": 0,
              "ticks": ""
             }
            },
            "type": "scatterternary"
           }
          ],
          "surface": [
           {
            "colorbar": {
             "outlinewidth": 0,
             "ticks": ""
            },
            "colorscale": [
             [
              0,
              "#0d0887"
             ],
             [
              0.1111111111111111,
              "#46039f"
             ],
             [
              0.2222222222222222,
              "#7201a8"
             ],
             [
              0.3333333333333333,
              "#9c179e"
             ],
             [
              0.4444444444444444,
              "#bd3786"
             ],
             [
              0.5555555555555556,
              "#d8576b"
             ],
             [
              0.6666666666666666,
              "#ed7953"
             ],
             [
              0.7777777777777778,
              "#fb9f3a"
             ],
             [
              0.8888888888888888,
              "#fdca26"
             ],
             [
              1,
              "#f0f921"
             ]
            ],
            "type": "surface"
           }
          ],
          "table": [
           {
            "cells": {
             "fill": {
              "color": "#EBF0F8"
             },
             "line": {
              "color": "white"
             }
            },
            "header": {
             "fill": {
              "color": "#C8D4E3"
             },
             "line": {
              "color": "white"
             }
            },
            "type": "table"
           }
          ]
         },
         "layout": {
          "annotationdefaults": {
           "arrowcolor": "#2a3f5f",
           "arrowhead": 0,
           "arrowwidth": 1
          },
          "autotypenumbers": "strict",
          "coloraxis": {
           "colorbar": {
            "outlinewidth": 0,
            "ticks": ""
           }
          },
          "colorscale": {
           "diverging": [
            [
             0,
             "#8e0152"
            ],
            [
             0.1,
             "#c51b7d"
            ],
            [
             0.2,
             "#de77ae"
            ],
            [
             0.3,
             "#f1b6da"
            ],
            [
             0.4,
             "#fde0ef"
            ],
            [
             0.5,
             "#f7f7f7"
            ],
            [
             0.6,
             "#e6f5d0"
            ],
            [
             0.7,
             "#b8e186"
            ],
            [
             0.8,
             "#7fbc41"
            ],
            [
             0.9,
             "#4d9221"
            ],
            [
             1,
             "#276419"
            ]
           ],
           "sequential": [
            [
             0,
             "#0d0887"
            ],
            [
             0.1111111111111111,
             "#46039f"
            ],
            [
             0.2222222222222222,
             "#7201a8"
            ],
            [
             0.3333333333333333,
             "#9c179e"
            ],
            [
             0.4444444444444444,
             "#bd3786"
            ],
            [
             0.5555555555555556,
             "#d8576b"
            ],
            [
             0.6666666666666666,
             "#ed7953"
            ],
            [
             0.7777777777777778,
             "#fb9f3a"
            ],
            [
             0.8888888888888888,
             "#fdca26"
            ],
            [
             1,
             "#f0f921"
            ]
           ],
           "sequentialminus": [
            [
             0,
             "#0d0887"
            ],
            [
             0.1111111111111111,
             "#46039f"
            ],
            [
             0.2222222222222222,
             "#7201a8"
            ],
            [
             0.3333333333333333,
             "#9c179e"
            ],
            [
             0.4444444444444444,
             "#bd3786"
            ],
            [
             0.5555555555555556,
             "#d8576b"
            ],
            [
             0.6666666666666666,
             "#ed7953"
            ],
            [
             0.7777777777777778,
             "#fb9f3a"
            ],
            [
             0.8888888888888888,
             "#fdca26"
            ],
            [
             1,
             "#f0f921"
            ]
           ]
          },
          "colorway": [
           "#636efa",
           "#EF553B",
           "#00cc96",
           "#ab63fa",
           "#FFA15A",
           "#19d3f3",
           "#FF6692",
           "#B6E880",
           "#FF97FF",
           "#FECB52"
          ],
          "font": {
           "color": "#2a3f5f"
          },
          "geo": {
           "bgcolor": "white",
           "lakecolor": "white",
           "landcolor": "#E5ECF6",
           "showlakes": true,
           "showland": true,
           "subunitcolor": "white"
          },
          "hoverlabel": {
           "align": "left"
          },
          "hovermode": "closest",
          "mapbox": {
           "style": "light"
          },
          "paper_bgcolor": "white",
          "plot_bgcolor": "#E5ECF6",
          "polar": {
           "angularaxis": {
            "gridcolor": "white",
            "linecolor": "white",
            "ticks": ""
           },
           "bgcolor": "#E5ECF6",
           "radialaxis": {
            "gridcolor": "white",
            "linecolor": "white",
            "ticks": ""
           }
          },
          "scene": {
           "xaxis": {
            "backgroundcolor": "#E5ECF6",
            "gridcolor": "white",
            "gridwidth": 2,
            "linecolor": "white",
            "showbackground": true,
            "ticks": "",
            "zerolinecolor": "white"
           },
           "yaxis": {
            "backgroundcolor": "#E5ECF6",
            "gridcolor": "white",
            "gridwidth": 2,
            "linecolor": "white",
            "showbackground": true,
            "ticks": "",
            "zerolinecolor": "white"
           },
           "zaxis": {
            "backgroundcolor": "#E5ECF6",
            "gridcolor": "white",
            "gridwidth": 2,
            "linecolor": "white",
            "showbackground": true,
            "ticks": "",
            "zerolinecolor": "white"
           }
          },
          "shapedefaults": {
           "line": {
            "color": "#2a3f5f"
           }
          },
          "ternary": {
           "aaxis": {
            "gridcolor": "white",
            "linecolor": "white",
            "ticks": ""
           },
           "baxis": {
            "gridcolor": "white",
            "linecolor": "white",
            "ticks": ""
           },
           "bgcolor": "#E5ECF6",
           "caxis": {
            "gridcolor": "white",
            "linecolor": "white",
            "ticks": ""
           }
          },
          "title": {
           "x": 0.05
          },
          "xaxis": {
           "automargin": true,
           "gridcolor": "white",
           "linecolor": "white",
           "ticks": "",
           "title": {
            "standoff": 15
           },
           "zerolinecolor": "white",
           "zerolinewidth": 2
          },
          "yaxis": {
           "automargin": true,
           "gridcolor": "white",
           "linecolor": "white",
           "ticks": "",
           "title": {
            "standoff": 15
           },
           "zerolinecolor": "white",
           "zerolinewidth": 2
          }
         }
        },
        "title": {
         "text": "Average Number of Pictures per Rating"
        },
        "uniformtext": {
         "mode": "hide"
        },
        "xaxis": {
         "anchor": "y",
         "domain": [
          0,
          1
         ],
         "title": {
          "text": "Rating"
         }
        },
        "yaxis": {
         "anchor": "x",
         "domain": [
          0,
          1
         ],
         "title": {
          "text": "Average Number of Pictures"
         }
        }
       }
      }
     },
     "metadata": {},
     "output_type": "display_data"
    }
   ],
   "source": [
    "# Plot avg. num pictures\n",
    "fig2 = px.bar(summary_data_frame, x='Rating', y='Avg. Num Pictures', title='Average Number of Pictures per Rating')\n",
    "fig2.update_layout(xaxis_title=\"Rating\", yaxis_title=\"Average Number of Pictures\", uniformtext_mode='hide')\n",
    "fig2.show()"
   ]
  },
  {
   "cell_type": "code",
   "execution_count": 10,
   "metadata": {},
   "outputs": [
    {
     "data": {
      "text/html": [
       "<div>\n",
       "<style scoped>\n",
       "    .dataframe tbody tr th:only-of-type {\n",
       "        vertical-align: middle;\n",
       "    }\n",
       "\n",
       "    .dataframe tbody tr th {\n",
       "        vertical-align: top;\n",
       "    }\n",
       "\n",
       "    .dataframe thead th {\n",
       "        text-align: right;\n",
       "    }\n",
       "</style>\n",
       "<table border=\"1\" class=\"dataframe\">\n",
       "  <thead>\n",
       "    <tr style=\"text-align: right;\">\n",
       "      <th></th>\n",
       "      <th>Rating</th>\n",
       "      <th>Count</th>\n",
       "      <th>Avg. Num Pictures</th>\n",
       "    </tr>\n",
       "  </thead>\n",
       "  <tbody>\n",
       "    <tr>\n",
       "      <th>0</th>\n",
       "      <td>1</td>\n",
       "      <td>8573</td>\n",
       "      <td>0.063572</td>\n",
       "    </tr>\n",
       "    <tr>\n",
       "      <th>1</th>\n",
       "      <td>2</td>\n",
       "      <td>9498</td>\n",
       "      <td>0.072752</td>\n",
       "    </tr>\n",
       "    <tr>\n",
       "      <th>2</th>\n",
       "      <td>3</td>\n",
       "      <td>32965</td>\n",
       "      <td>0.102776</td>\n",
       "    </tr>\n",
       "    <tr>\n",
       "      <th>3</th>\n",
       "      <td>4</td>\n",
       "      <td>80199</td>\n",
       "      <td>0.143269</td>\n",
       "    </tr>\n",
       "    <tr>\n",
       "      <th>4</th>\n",
       "      <td>5</td>\n",
       "      <td>156737</td>\n",
       "      <td>0.201152</td>\n",
       "    </tr>\n",
       "  </tbody>\n",
       "</table>\n",
       "</div>"
      ],
      "text/plain": [
       "   Rating   Count  Avg. Num Pictures\n",
       "0       1    8573           0.063572\n",
       "1       2    9498           0.072752\n",
       "2       3   32965           0.102776\n",
       "3       4   80199           0.143269\n",
       "4       5  156737           0.201152"
      ]
     },
     "execution_count": 10,
     "metadata": {},
     "output_type": "execute_result"
    }
   ],
   "source": [
    "summary_data_frame"
   ]
  }
 ],
 "metadata": {
  "kernelspec": {
   "display_name": "Python 3",
   "language": "python",
   "name": "python3"
  },
  "language_info": {
   "codemirror_mode": {
    "name": "ipython",
    "version": 3
   },
   "file_extension": ".py",
   "mimetype": "text/x-python",
   "name": "python",
   "nbconvert_exporter": "python",
   "pygments_lexer": "ipython3",
   "version": "3.11.5"
  }
 },
 "nbformat": 4,
 "nbformat_minor": 2
}
