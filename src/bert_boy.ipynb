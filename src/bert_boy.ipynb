{
 "cells": [
  {
   "cell_type": "markdown",
   "metadata": {},
   "source": [
    "# Imports"
   ]
  },
  {
   "cell_type": "code",
   "execution_count": null,
   "metadata": {},
   "outputs": [],
   "source": [
    "import pandas as pd\n",
    "import plotly.express as px\n",
    "import torch\n",
    "from transformers import BertTokenizer, BertModel"
   ]
  },
  {
   "cell_type": "markdown",
   "metadata": {},
   "source": [
    "# Import Data"
   ]
  },
  {
   "cell_type": "code",
   "execution_count": null,
   "metadata": {},
   "outputs": [],
   "source": [
    "review_file_path = '../data/review-New_York_10.json'\n",
    "df_review_data = pd.read_json(review_file_path, lines=True)\n",
    "\n",
    "# df_review_data.head()\n",
    "\n",
    "metadata_file_path = '../data/meta-New_York.json'\n",
    "df_ratings = pd.read_json(metadata_file_path, lines=True)\n",
    "\n",
    "# df_ratings.head()"
   ]
  },
  {
   "cell_type": "markdown",
   "metadata": {},
   "source": [
    "# Data Processing"
   ]
  },
  {
   "cell_type": "code",
   "execution_count": null,
   "metadata": {},
   "outputs": [],
   "source": [
    "df_ratings = df_ratings[df_ratings['category'].astype(str).str.contains('restaurant', case=False, na=False)]\n",
    "df_ratings = df_ratings.drop_duplicates(subset='gmap_id')\n",
    "# df_ratings.head()\n",
    "\n",
    "df_all_data = pd.merge(df_review_data, df_ratings, on='gmap_id', how='inner')\n",
    "# df_all_data.head()"
   ]
  },
  {
   "cell_type": "markdown",
   "metadata": {},
   "source": [
    "# BERT"
   ]
  },
  {
   "cell_type": "code",
   "execution_count": null,
   "metadata": {},
   "outputs": [],
   "source": []
  }
 ],
 "metadata": {
  "language_info": {
   "name": "python"
  }
 },
 "nbformat": 4,
 "nbformat_minor": 2
}
